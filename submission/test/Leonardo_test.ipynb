{
 "cells": [
  {
   "cell_type": "code",
   "execution_count": 2,
   "metadata": {},
   "outputs": [
    {
     "name": "stdout",
     "output_type": "stream",
     "text": [
      "--------------------\n",
      "FEATURES=\n",
      " [[0 1 1 1 0 2 0 2 2 0]\n",
      " [0 0 0 0 0 0 0 0 0 1]\n",
      " [0 0 1 2 1 0 2 1 2 0]]\n",
      "--------------------\n",
      "Number of QBITS= 4\n",
      "--------------------\n",
      "Qbits ordering= [1 3 3 3 1 4 1 4 4 2]\n",
      "--------------------\n",
      "H_RELAX=\n",
      " [[-2.5+0.j -6. +3.j -9. +3.j  3. +0.j  0. +0.j  0. +0.j  0. +0.j  0. +0.j\n",
      "  -3. +6.j  0. +0.j  0. +3.j  0. +0.j  0. +0.j  0. +0.j  0. +0.j  0. +0.j]\n",
      " [-6. -3.j -2.5+0.j -3. +0.j -3. +3.j  0. +0.j  0. +0.j  0. +0.j  0. +0.j\n",
      "  -6. +0.j  3. +0.j  0. +0.j  0. +3.j  0. +0.j  0. +0.j  0. +0.j  0. +0.j]\n",
      " [-9. -3.j -3. +0.j  3.5+0.j  0. +3.j  0. +0.j  0. +0.j  0. +0.j  0. +0.j\n",
      "   0. -3.j  0. +0.j -3. +0.j  0. +0.j  0. +0.j  0. +0.j  0. +0.j  0. +0.j]\n",
      " [ 3. +0.j -3. -3.j  0. -3.j  3.5+0.j  0. +0.j  0. +0.j  0. +0.j  0. +0.j\n",
      "   0. +0.j  0. -3.j -6. +0.j  3. -6.j  0. +0.j  0. +0.j  0. +0.j  0. +0.j]\n",
      " [ 0. +0.j  0. +0.j  0. +0.j  0. +0.j -2.5+0.j  0. -3.j -3. +3.j  3. +0.j\n",
      "   0. +0.j  0. +0.j  0. +0.j  0. +0.j -3. +6.j  0. +0.j  0. +3.j  0. +0.j]\n",
      " [ 0. +0.j  0. +0.j  0. +0.j  0. +0.j  0. +3.j -2.5+0.j -3. +0.j  3. +3.j\n",
      "   0. +0.j  0. +0.j  0. +0.j  0. +0.j -6. +0.j  3. +0.j  0. +0.j  0. +3.j]\n",
      " [ 0. +0.j  0. +0.j  0. +0.j  0. +0.j -3. -3.j -3. +0.j  3.5+0.j  6. -3.j\n",
      "   0. +0.j  0. +0.j  0. +0.j  0. +0.j  0. -3.j  0. +0.j -3. +0.j  0. +0.j]\n",
      " [ 0. +0.j  0. +0.j  0. +0.j  0. +0.j  3. +0.j  3. -3.j  6. +3.j  3.5+0.j\n",
      "   0. +0.j  0. +0.j  0. +0.j  0. +0.j  0. +0.j  0. -3.j -6. +0.j  3. -6.j]\n",
      " [-3. -6.j -6. +0.j  0. +3.j  0. +0.j  0. +0.j  0. +0.j  0. +0.j  0. +0.j\n",
      "   3.5+0.j -6. +3.j -3. -3.j  3. +0.j  0. +0.j  0. +0.j  0. +0.j  0. +0.j]\n",
      " [ 0. +0.j  3. +0.j  0. +0.j  0. +3.j  0. +0.j  0. +0.j  0. +0.j  0. +0.j\n",
      "  -6. -3.j  3.5+0.j -3. +0.j  3. -3.j  0. +0.j  0. +0.j  0. +0.j  0. +0.j]\n",
      " [ 0. -3.j  0. +0.j -3. +0.j -6. +0.j  0. +0.j  0. +0.j  0. +0.j  0. +0.j\n",
      "  -3. +3.j -3. +0.j -2.5+0.j  0. +3.j  0. +0.j  0. +0.j  0. +0.j  0. +0.j]\n",
      " [ 0. +0.j  0. -3.j  0. +0.j  3. +6.j  0. +0.j  0. +0.j  0. +0.j  0. +0.j\n",
      "   3. +0.j  3. +3.j  0. -3.j -2.5+0.j  0. +0.j  0. +0.j  0. +0.j  0. +0.j]\n",
      " [ 0. +0.j  0. +0.j  0. +0.j  0. +0.j -3. -6.j -6. +0.j  0. +3.j  0. +0.j\n",
      "   0. +0.j  0. +0.j  0. +0.j  0. +0.j  3.5+0.j  0. -3.j  3. -3.j  3. +0.j]\n",
      " [ 0. +0.j  0. +0.j  0. +0.j  0. +0.j  0. +0.j  3. +0.j  0. +0.j  0. +3.j\n",
      "   0. +0.j  0. +0.j  0. +0.j  0. +0.j  0. +3.j  3.5+0.j -3. +0.j  9. -3.j]\n",
      " [ 0. +0.j  0. +0.j  0. +0.j  0. +0.j  0. -3.j  0. +0.j -3. +0.j -6. +0.j\n",
      "   0. +0.j  0. +0.j  0. +0.j  0. +0.j  3. +3.j -3. +0.j -2.5+0.j  6. -3.j]\n",
      " [ 0. +0.j  0. +0.j  0. +0.j  0. +0.j  0. +0.j  0. -3.j  0. +0.j  3. +6.j\n",
      "   0. +0.j  0. +0.j  0. +0.j  0. +0.j  3. +0.j  9. +3.j  6. +3.j -2.5+0.j]]\n",
      "4\n"
     ]
    }
   ],
   "source": [
    "import sys\n",
    "sys.path.append(\"..\")\n",
    "import numpy as np\n",
    "from qutip import *\n",
    "import src.GRAPH_LDF as qrac\n",
    "import src.Annealing as ann\n",
    "#-------------------------------------------------------------------------------\n",
    "# Graph definition and system parameters\n",
    "#-------------------------------------------------------------------------------\n",
    "# Define the graph matrix and the number of vertices\n",
    "N_v = 10\n",
    "adj_matrix = np.zeros((N_v,N_v))\n",
    "adj_matrix[0] = np.array([0,1,1,1,0,0,0,0,0,0])\n",
    "adj_matrix[1] = np.array([1,0,0,0,1,0,0,0,1,0])\n",
    "adj_matrix[2] = np.array([1,0,0,0,0,0,1,1,0,0])\n",
    "adj_matrix[3] = np.array([1,0,0,0,0,1,0,0,0,1])\n",
    "adj_matrix[4] = np.array([0,1,0,0,0,1,0,1,0,0])\n",
    "adj_matrix[5] = np.array([0,0,0,1,1,0,1,0,0,0])\n",
    "adj_matrix[6] = np.array([0,0,1,0,0,1,0,0,1,0])\n",
    "adj_matrix[7] = np.array([0,0,1,0,1,0,0,0,0,1])\n",
    "adj_matrix[8] = np.array([0,1,0,0,0,0,1,0,0,1])\n",
    "adj_matrix[9] = np.array([0,0,0,1,0,0,0,1,1,0])\n",
    "\n",
    "# adj_matrix[0] = np.array([0,0,0,1,0])\n",
    "# adj_matrix[1] = np.array([0,0,0,1,1])\n",
    "# adj_matrix[2] = np.array([0,0,0,0,1])\n",
    "# adj_matrix[3] = np.array([1,1,0,0,1])\n",
    "# adj_matrix[4] = np.array([0,1,1,1,0])\n",
    "\n",
    "# adj_matrix[0] = np.array([0,1,1])\n",
    "# adj_matrix[1] = np.array([1,0,1])\n",
    "# adj_matrix[2] = np.array([1,1,0])\n",
    "\n",
    "#adj_matrix[0] = np.array([0,1])\n",
    "#adj_matrix[1] = np.array([1,0])\n",
    "\n",
    "qrac_mat, n_qbit, qbit_ord, features = qrac.QRAC_HAMILTONIAN(adj_matrix, N_v)\n",
    "print(n_qbit)"
   ]
  },
  {
   "cell_type": "code",
   "execution_count": 3,
   "metadata": {},
   "outputs": [
    {
     "name": "stdout",
     "output_type": "stream",
     "text": [
      "[-9.20347061e-05-6.24773669e-06j -5.52684968e-05-4.78810825e-05j\n",
      " -4.40722109e-05-3.28178142e-05j  1.30873085e-05-2.82615271e-05j\n",
      "  4.17269628e-02+1.28645875e-02j  1.27264821e-01-2.58609749e-01j\n",
      "  1.67454067e-02-1.03356609e-01j -2.19793383e-01+2.78498612e-01j\n",
      " -3.03517557e-05-4.43321865e-05j -1.46995061e-06-1.57877175e-05j\n",
      " -1.65757702e-05-4.03781886e-05j  6.43639939e-06-1.51571267e-06j\n",
      " -7.35831876e-02-1.92048298e-01j -3.05037974e-01+1.96502228e-01j\n",
      " -3.85539277e-01+2.90735920e-01j  6.09145436e-01+0.00000000e+00j]\n"
     ]
    }
   ],
   "source": [
    "# Find the Ground State using the Annealing method\n",
    "# H1_matrix, N, M, taumax, t_steps\n",
    "_, gs_vector = ann.Annealing_GS(qrac_mat, n_qbit, M=1, taumax=100.0, t_steps=1000)\n",
    "gs_vector = gs_vector[0]\n",
    "print(gs_vector)"
   ]
  },
  {
   "cell_type": "code",
   "execution_count": 4,
   "metadata": {},
   "outputs": [
    {
     "name": "stdout",
     "output_type": "stream",
     "text": [
      "[1 1 0 1 0 1 1 0 1 1]\n"
     ]
    }
   ],
   "source": [
    "result, result_1 =  qrac.Graph_partition_func(gs_vector, N_v, qbit_ord, n_qbit, features)\n",
    "print(result)"
   ]
  }
 ],
 "metadata": {
  "kernelspec": {
   "display_name": "base",
   "language": "python",
   "name": "python3"
  },
  "language_info": {
   "codemirror_mode": {
    "name": "ipython",
    "version": 3
   },
   "file_extension": ".py",
   "mimetype": "text/x-python",
   "name": "python",
   "nbconvert_exporter": "python",
   "pygments_lexer": "ipython3",
   "version": "3.11.5"
  }
 },
 "nbformat": 4,
 "nbformat_minor": 2
}
