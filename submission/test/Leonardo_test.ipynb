{
 "cells": [
  {
   "cell_type": "code",
   "execution_count": 1,
   "metadata": {},
   "outputs": [
    {
     "name": "stdout",
     "output_type": "stream",
     "text": [
      "[1 1 0 0 1 1 1 1 0]\n"
     ]
    }
   ],
   "source": [
    "import sys\n",
    "sys.path.append(\"..\")\n",
    "import numpy as np\n",
    "from qutip import *\n",
    "import src.GRAPH_LDF as qrac\n",
    "import src.Annealing as ann\n",
    "from src import graphs\n",
    "from src import qubo\n",
    "\n",
    "#-------------------------------------------------------------------------------\n",
    "# Graph definition and system parameters\n",
    "#-------------------------------------------------------------------------------\n",
    "# Define the graph matrix and the number of vertices\n",
    "N_v = 9\n",
    "# adj_matrix = np.zeros((N_v,N_v))\n",
    "# adj_matrix[0] = np.array([0,1,1,1,0,0,0,0,0,0])\n",
    "# adj_matrix[1] = np.array([1,0,0,0,1,0,0,0,1,0])\n",
    "# adj_matrix[2] = np.array([1,0,0,0,0,0,1,1,0,0])\n",
    "# adj_matrix[3] = np.array([1,0,0,0,0,1,0,0,0,1])\n",
    "# adj_matrix[4] = np.array([0,1,0,0,0,1,0,1,0,0])\n",
    "# adj_matrix[5] = np.array([0,0,0,1,1,0,1,0,0,0])\n",
    "# adj_matrix[6] = np.array([0,0,1,0,0,1,0,0,1,0])\n",
    "# adj_matrix[7] = np.array([0,0,1,0,1,0,0,0,0,1])\n",
    "# adj_matrix[8] = np.array([0,1,0,0,0,0,1,0,0,1])\n",
    "# adj_matrix[9] = np.array([0,0,0,1,0,0,0,1,1,0])\n",
    "\n",
    "G = graphs.square_graph(3)\n",
    "adj_matrix = qubo.graph_matrix(G)\n",
    "\n",
    "qrac_mat, n_qbit, qbit_ord, features = qrac.QRAC_HAMILTONIAN(adj_matrix, N_v)\n",
    "evals_mat, gs_vector = ann.Annealing_GS(qrac_mat, n_qbit, M=10, taumax=100.0, t_steps=1000)\n",
    "gs_vector = gs_vector[0]\n",
    "result, result_1 =  qrac.Graph_partition_func(gs_vector, N_v, qbit_ord, n_qbit, features)\n",
    "\n",
    "print(result)"
   ]
  }
 ],
 "metadata": {
  "kernelspec": {
   "display_name": "base",
   "language": "python",
   "name": "python3"
  },
  "language_info": {
   "codemirror_mode": {
    "name": "ipython",
    "version": 3
   },
   "file_extension": ".py",
   "mimetype": "text/x-python",
   "name": "python",
   "nbconvert_exporter": "python",
   "pygments_lexer": "ipython3",
   "version": "3.11.5"
  }
 },
 "nbformat": 4,
 "nbformat_minor": 2
}
