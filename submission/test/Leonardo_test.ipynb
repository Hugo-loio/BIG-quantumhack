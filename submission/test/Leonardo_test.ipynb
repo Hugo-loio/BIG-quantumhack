{
 "cells": [
  {
   "cell_type": "code",
   "execution_count": 5,
   "metadata": {},
   "outputs": [
    {
     "name": "stdout",
     "output_type": "stream",
     "text": [
      "--------------------\n",
      "FEATURES=\n",
      " [[0 1 1 1 0 2 0 2 2 0]\n",
      " [0 0 0 0 0 0 0 0 0 1]\n",
      " [0 0 1 2 1 0 2 1 2 0]]\n",
      "--------------------\n",
      "Number of QBITS= 4\n",
      "--------------------\n",
      "Qbits ordering= [1 3 3 3 1 4 1 4 4 2]\n",
      "--------------------\n",
      "H_RELAX=\n",
      " [[-2.5+0.j -6. +3.j -9. +3.j  3. +0.j  0. +0.j  0. +0.j  0. +0.j  0. +0.j\n",
      "  -3. +6.j  0. +0.j  0. +3.j  0. +0.j  0. +0.j  0. +0.j  0. +0.j  0. +0.j]\n",
      " [-6. -3.j -2.5+0.j -3. +0.j -3. +3.j  0. +0.j  0. +0.j  0. +0.j  0. +0.j\n",
      "  -6. +0.j  3. +0.j  0. +0.j  0. +3.j  0. +0.j  0. +0.j  0. +0.j  0. +0.j]\n",
      " [-9. -3.j -3. +0.j  3.5+0.j  0. +3.j  0. +0.j  0. +0.j  0. +0.j  0. +0.j\n",
      "   0. -3.j  0. +0.j -3. +0.j  0. +0.j  0. +0.j  0. +0.j  0. +0.j  0. +0.j]\n",
      " [ 3. +0.j -3. -3.j  0. -3.j  3.5+0.j  0. +0.j  0. +0.j  0. +0.j  0. +0.j\n",
      "   0. +0.j  0. -3.j -6. +0.j  3. -6.j  0. +0.j  0. +0.j  0. +0.j  0. +0.j]\n",
      " [ 0. +0.j  0. +0.j  0. +0.j  0. +0.j -2.5+0.j  0. -3.j -3. +3.j  3. +0.j\n",
      "   0. +0.j  0. +0.j  0. +0.j  0. +0.j -3. +6.j  0. +0.j  0. +3.j  0. +0.j]\n",
      " [ 0. +0.j  0. +0.j  0. +0.j  0. +0.j  0. +3.j -2.5+0.j -3. +0.j  3. +3.j\n",
      "   0. +0.j  0. +0.j  0. +0.j  0. +0.j -6. +0.j  3. +0.j  0. +0.j  0. +3.j]\n",
      " [ 0. +0.j  0. +0.j  0. +0.j  0. +0.j -3. -3.j -3. +0.j  3.5+0.j  6. -3.j\n",
      "   0. +0.j  0. +0.j  0. +0.j  0. +0.j  0. -3.j  0. +0.j -3. +0.j  0. +0.j]\n",
      " [ 0. +0.j  0. +0.j  0. +0.j  0. +0.j  3. +0.j  3. -3.j  6. +3.j  3.5+0.j\n",
      "   0. +0.j  0. +0.j  0. +0.j  0. +0.j  0. +0.j  0. -3.j -6. +0.j  3. -6.j]\n",
      " [-3. -6.j -6. +0.j  0. +3.j  0. +0.j  0. +0.j  0. +0.j  0. +0.j  0. +0.j\n",
      "   3.5+0.j -6. +3.j -3. -3.j  3. +0.j  0. +0.j  0. +0.j  0. +0.j  0. +0.j]\n",
      " [ 0. +0.j  3. +0.j  0. +0.j  0. +3.j  0. +0.j  0. +0.j  0. +0.j  0. +0.j\n",
      "  -6. -3.j  3.5+0.j -3. +0.j  3. -3.j  0. +0.j  0. +0.j  0. +0.j  0. +0.j]\n",
      " [ 0. -3.j  0. +0.j -3. +0.j -6. +0.j  0. +0.j  0. +0.j  0. +0.j  0. +0.j\n",
      "  -3. +3.j -3. +0.j -2.5+0.j  0. +3.j  0. +0.j  0. +0.j  0. +0.j  0. +0.j]\n",
      " [ 0. +0.j  0. -3.j  0. +0.j  3. +6.j  0. +0.j  0. +0.j  0. +0.j  0. +0.j\n",
      "   3. +0.j  3. +3.j  0. -3.j -2.5+0.j  0. +0.j  0. +0.j  0. +0.j  0. +0.j]\n",
      " [ 0. +0.j  0. +0.j  0. +0.j  0. +0.j -3. -6.j -6. +0.j  0. +3.j  0. +0.j\n",
      "   0. +0.j  0. +0.j  0. +0.j  0. +0.j  3.5+0.j  0. -3.j  3. -3.j  3. +0.j]\n",
      " [ 0. +0.j  0. +0.j  0. +0.j  0. +0.j  0. +0.j  3. +0.j  0. +0.j  0. +3.j\n",
      "   0. +0.j  0. +0.j  0. +0.j  0. +0.j  0. +3.j  3.5+0.j -3. +0.j  9. -3.j]\n",
      " [ 0. +0.j  0. +0.j  0. +0.j  0. +0.j  0. -3.j  0. +0.j -3. +0.j -6. +0.j\n",
      "   0. +0.j  0. +0.j  0. +0.j  0. +0.j  3. +3.j -3. +0.j -2.5+0.j  6. -3.j]\n",
      " [ 0. +0.j  0. +0.j  0. +0.j  0. +0.j  0. +0.j  0. -3.j  0. +0.j  3. +6.j\n",
      "   0. +0.j  0. +0.j  0. +0.j  0. +0.j  3. +0.j  9. +3.j  6. +3.j -2.5+0.j]]\n"
     ]
    }
   ],
   "source": [
    "import sys\n",
    "sys.path.append(\"..\")\n",
    "import numpy as np\n",
    "from qutip import *\n",
    "import src.GRAPH_LDF as qrac\n",
    "import src.Annealing as ann\n",
    "#-------------------------------------------------------------------------------\n",
    "# Graph definition and system parameters\n",
    "#-------------------------------------------------------------------------------\n",
    "# Define the graph matrix and the number of vertices\n",
    "N_v = 10\n",
    "adj_matrix = np.zeros((N_v,N_v))\n",
    "adj_matrix[0] = np.array([0,1,1,1,0,0,0,0,0,0])\n",
    "adj_matrix[1] = np.array([1,0,0,0,1,0,0,0,1,0])\n",
    "adj_matrix[2] = np.array([1,0,0,0,0,0,1,1,0,0])\n",
    "adj_matrix[3] = np.array([1,0,0,0,0,1,0,0,0,1])\n",
    "adj_matrix[4] = np.array([0,1,0,0,0,1,0,1,0,0])\n",
    "adj_matrix[5] = np.array([0,0,0,1,1,0,1,0,0,0])\n",
    "adj_matrix[6] = np.array([0,0,1,0,0,1,0,0,1,0])\n",
    "adj_matrix[7] = np.array([0,0,1,0,1,0,0,0,0,1])\n",
    "adj_matrix[8] = np.array([0,1,0,0,0,0,1,0,0,1])\n",
    "adj_matrix[9] = np.array([0,0,0,1,0,0,0,1,1,0])\n",
    "\n",
    "\n",
    "qrac_mat, n_qbit, qbit_ord, features = qrac.QRAC_HAMILTONIAN(adj_matrix, N_v)\n",
    "_, gs_vector = ann.Annealing_GS(qrac_mat, n_qbit, M=1, taumax=100.0, t_steps=1000)\n",
    "gs_vector = gs_vector[0]\n",
    "result, result_1 =  qrac.Graph_partition_func(gs_vector, N_v, qbit_ord, n_qbit, features)"
   ]
  },
  {
   "cell_type": "code",
   "execution_count": null,
   "metadata": {},
   "outputs": [],
   "source": []
  }
 ],
 "metadata": {
  "kernelspec": {
   "display_name": "base",
   "language": "python",
   "name": "python3"
  },
  "language_info": {
   "codemirror_mode": {
    "name": "ipython",
    "version": 3
   },
   "file_extension": ".py",
   "mimetype": "text/x-python",
   "name": "python",
   "nbconvert_exporter": "python",
   "pygments_lexer": "ipython3",
   "version": "3.11.5"
  }
 },
 "nbformat": 4,
 "nbformat_minor": 2
}
