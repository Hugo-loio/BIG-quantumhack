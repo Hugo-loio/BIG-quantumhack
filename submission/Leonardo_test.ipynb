{
 "cells": [
  {
   "cell_type": "code",
   "execution_count": 1,
   "metadata": {},
   "outputs": [
    {
     "name": "stdout",
     "output_type": "stream",
     "text": [
      "--------------------\n",
      "FEATURES=\n",
      " [[0 1]\n",
      " [0 0]\n",
      " [0 0]]\n",
      "--------------------\n",
      "Number of QBITS= 2\n",
      "--------------------\n",
      "Qbits ordering= [1 2]\n",
      "--------------------\n",
      "H_RELAX=\n",
      " [[-2.5+0.j  0. +0.j  0. +0.j  0. +0.j]\n",
      " [ 0. +0.j  3.5+0.j  0. +0.j  0. +0.j]\n",
      " [ 0. +0.j  0. +0.j  3.5+0.j  0. +0.j]\n",
      " [ 0. +0.j  0. +0.j  0. +0.j -2.5+0.j]]\n"
     ]
    },
    {
     "data": {
      "text/plain": [
       "array([[-2.5+0.j,  0. +0.j,  0. +0.j,  0. +0.j],\n",
       "       [ 0. +0.j,  3.5+0.j,  0. +0.j,  0. +0.j],\n",
       "       [ 0. +0.j,  0. +0.j,  3.5+0.j,  0. +0.j],\n",
       "       [ 0. +0.j,  0. +0.j,  0. +0.j, -2.5+0.j]])"
      ]
     },
     "execution_count": 1,
     "metadata": {},
     "output_type": "execute_result"
    }
   ],
   "source": [
    "import numpy as np\n",
    "import src.GRAPH_LDF as qrac\n",
    "\n",
    "#-------------------------------------------------------------------------------\n",
    "# Graph definition and system parameters\n",
    "#-------------------------------------------------------------------------------\n",
    "# Define the graph matrix and the number of vertices\n",
    "N_v = 2\n",
    "adj_matrix = np.zeros((N_v,N_v))\n",
    "# adj_matrix[0] = np.array([0,1,1,1,0,0,0,0,0,0])\n",
    "# adj_matrix[1] = np.array([1,0,0,0,1,0,0,0,1,0])\n",
    "# adj_matrix[2] = np.array([1,0,0,0,0,0,1,1,0,0])\n",
    "# adj_matrix[3] = np.array([1,0,0,0,0,1,0,0,0,1])\n",
    "# adj_matrix[4] = np.array([0,1,0,0,0,1,0,1,0,0])\n",
    "# adj_matrix[5] = np.array([0,0,0,1,1,0,1,0,0,0])\n",
    "# adj_matrix[6] = np.array([0,0,1,0,0,1,0,0,1,0])\n",
    "# adj_matrix[7] = np.array([0,0,1,0,1,0,0,0,0,1])\n",
    "# adj_matrix[8] = np.array([0,1,0,0,0,0,1,0,0,1])\n",
    "# adj_matrix[9] = np.array([0,0,0,1,0,0,0,1,1,0])\n",
    "\n",
    "# adj_matrix[0] = np.array([0,1,1])\n",
    "# adj_matrix[1] = np.array([1,0,1])\n",
    "# adj_matrix[2] = np.array([1,1,0])\n",
    "\n",
    "adj_matrix[0] = np.array([0,1])\n",
    "adj_matrix[1] = np.array([1,0])\n",
    "\n",
    "qrac.QRAC_HAMILTONIAN(adj_matrix, N_v)"
   ]
  },
  {
   "cell_type": "code",
   "execution_count": null,
   "metadata": {},
   "outputs": [],
   "source": []
  }
 ],
 "metadata": {
  "kernelspec": {
   "display_name": "base",
   "language": "python",
   "name": "python3"
  },
  "language_info": {
   "codemirror_mode": {
    "name": "ipython",
    "version": 3
   },
   "file_extension": ".py",
   "mimetype": "text/x-python",
   "name": "python",
   "nbconvert_exporter": "python",
   "pygments_lexer": "ipython3",
   "version": "3.11.5"
  }
 },
 "nbformat": 4,
 "nbformat_minor": 2
}
